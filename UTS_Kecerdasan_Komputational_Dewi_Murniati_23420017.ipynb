{
  "cells": [
    {
      "cell_type": "markdown",
      "metadata": {
        "id": "view-in-github",
        "colab_type": "text"
      },
      "source": [
        "<a href=\"https://colab.research.google.com/github/Dewimurniati/UTS_Kecerdasan_Komputasional/blob/main/UTS_Kecerdasan_Komputational_Dewi_Murniati_23420017.ipynb\" target=\"_parent\"><img src=\"https://colab.research.google.com/assets/colab-badge.svg\" alt=\"Open In Colab\"/></a>"
      ]
    },
    {
      "cell_type": "code",
      "source": [
        "import matplotlib as plt\n",
        "from sklearn.datasets import make_blobs\n",
        "from sklearn.cluster import KMeans\n",
        "from sklearn.metrics import silhouette_score\n",
        "from sklearn.preprocessing import StandardScaler"
      ],
      "metadata": {
        "id": "gTJviDl-ubCp"
      },
      "execution_count": null,
      "outputs": []
    },
    {
      "cell_type": "code",
      "source": [
        "features, true_label = make_blobs(\n",
        "    n_samples=710,\n",
        "    centers=5,\n",
        "    cluster_std=2.75,\n",
        "    random_state=42\n",
        ")"
      ],
      "metadata": {
        "id": "WYKds20nuodv"
      },
      "execution_count": null,
      "outputs": []
    },
    {
      "cell_type": "code",
      "source": [
        "features[:10]"
      ],
      "metadata": {
        "id": "g3CzkUrNu0ol",
        "outputId": "97571805-4f61-440b-af5a-1e6f6dfd356b",
        "colab": {
          "base_uri": "https://localhost:8080/"
        }
      },
      "execution_count": null,
      "outputs": [
        {
          "output_type": "execute_result",
          "data": {
            "text/plain": [
              "array([[  9.27951833,   4.39767902],\n",
              "       [ -4.04205471, -10.96540062],\n",
              "       [ -9.08510092,  11.28384526],\n",
              "       [  0.2526251 ,   6.71301191],\n",
              "       [ -7.40053016,   5.7458479 ],\n",
              "       [ -8.14286966,  -9.21718161],\n",
              "       [  0.04901431,   3.46741021],\n",
              "       [ -4.5962037 ,  -9.23434011],\n",
              "       [  5.72462223,   0.81546236],\n",
              "       [  1.00923752,   7.00968129]])"
            ]
          },
          "metadata": {},
          "execution_count": 90
        }
      ]
    },
    {
      "cell_type": "code",
      "source": [
        "true_label[:200]"
      ],
      "metadata": {
        "id": "u3S6AamDu4zv",
        "outputId": "455fe3e6-9dd8-432d-98d6-1ff5bc4f7928",
        "colab": {
          "base_uri": "https://localhost:8080/"
        }
      },
      "execution_count": null,
      "outputs": [
        {
          "output_type": "execute_result",
          "data": {
            "text/plain": [
              "array([1, 2, 3, 4, 3, 2, 1, 2, 1, 1, 4, 0, 1, 2, 1, 0, 3, 3, 4, 1, 2, 3,\n",
              "       0, 3, 1, 0, 4, 3, 4, 2, 2, 3, 1, 2, 0, 3, 4, 3, 0, 0, 3, 2, 4, 2,\n",
              "       3, 3, 4, 3, 0, 3, 2, 1, 3, 2, 4, 2, 0, 3, 2, 1, 4, 2, 0, 1, 2, 3,\n",
              "       3, 4, 0, 1, 0, 0, 1, 3, 2, 0, 2, 3, 4, 1, 4, 2, 1, 1, 0, 0, 4, 4,\n",
              "       2, 4, 1, 4, 2, 2, 3, 4, 2, 0, 2, 1, 3, 0, 4, 1, 2, 2, 4, 2, 3, 3,\n",
              "       4, 3, 2, 0, 0, 4, 4, 1, 0, 2, 0, 1, 2, 1, 1, 2, 1, 0, 3, 3, 4, 4,\n",
              "       2, 4, 0, 3, 4, 3, 2, 1, 0, 4, 4, 0, 1, 1, 4, 1, 0, 4, 2, 2, 3, 4,\n",
              "       2, 4, 2, 4, 2, 3, 2, 4, 4, 1, 3, 2, 0, 2, 1, 0, 2, 2, 1, 2, 0, 2,\n",
              "       1, 1, 2, 2, 1, 3, 0, 2, 3, 3, 2, 2, 2, 4, 4, 3, 0, 3, 4, 3, 3, 0,\n",
              "       3, 4])"
            ]
          },
          "metadata": {},
          "execution_count": 91
        }
      ]
    },
    {
      "cell_type": "code",
      "source": [
        "standard_skala = StandardScaler()\n",
        "skala_fitur = standard_skala.fit_transform(features)"
      ],
      "metadata": {
        "id": "pOvGnSaZu9RQ"
      },
      "execution_count": null,
      "outputs": []
    },
    {
      "cell_type": "code",
      "source": [
        "skala_fitur[:10]"
      ],
      "metadata": {
        "id": "0VfSVKCivBSh",
        "outputId": "8135116e-b87d-401f-d6a9-450d2be278cb",
        "colab": {
          "base_uri": "https://localhost:8080/"
        }
      },
      "execution_count": null,
      "outputs": [
        {
          "output_type": "execute_result",
          "data": {
            "text/plain": [
              "array([[ 2.05789207,  0.19264355],\n",
              "       [-0.32849798, -2.28872579],\n",
              "       [-1.23189545,  1.30486337],\n",
              "       [ 0.44083918,  0.56660477],\n",
              "       [-0.93012607,  0.41039318],\n",
              "       [-1.06310673, -2.00636202],\n",
              "       [ 0.4043649 ,  0.04239109],\n",
              "       [-0.42776671, -2.00913338],\n",
              "       [ 1.42107773, -0.38593853],\n",
              "       [ 0.57637665,  0.61452135]])"
            ]
          },
          "metadata": {},
          "execution_count": 93
        }
      ]
    },
    {
      "cell_type": "code",
      "source": [
        "metode_kmeans = KMeans(\n",
        "    init=\"random\", \n",
        "    n_clusters=17, \n",
        "    n_init=10, \n",
        "    max_iter=100, \n",
        "    random_state=41\n",
        "    )"
      ],
      "metadata": {
        "id": "IphuIY-IvJeM"
      },
      "execution_count": null,
      "outputs": []
    },
    {
      "cell_type": "code",
      "source": [
        "metode_kmeans.fit(skala_fitur)"
      ],
      "metadata": {
        "id": "JRD_MNZQvNzB",
        "outputId": "5009fadc-c876-4ace-bee5-73cdf38801ca",
        "colab": {
          "base_uri": "https://localhost:8080/",
          "height": 75
        }
      },
      "execution_count": null,
      "outputs": [
        {
          "output_type": "execute_result",
          "data": {
            "text/plain": [
              "KMeans(init='random', max_iter=100, n_clusters=17, n_init=10, random_state=41)"
            ],
            "text/html": [
              "<style>#sk-container-id-9 {color: black;background-color: white;}#sk-container-id-9 pre{padding: 0;}#sk-container-id-9 div.sk-toggleable {background-color: white;}#sk-container-id-9 label.sk-toggleable__label {cursor: pointer;display: block;width: 100%;margin-bottom: 0;padding: 0.3em;box-sizing: border-box;text-align: center;}#sk-container-id-9 label.sk-toggleable__label-arrow:before {content: \"▸\";float: left;margin-right: 0.25em;color: #696969;}#sk-container-id-9 label.sk-toggleable__label-arrow:hover:before {color: black;}#sk-container-id-9 div.sk-estimator:hover label.sk-toggleable__label-arrow:before {color: black;}#sk-container-id-9 div.sk-toggleable__content {max-height: 0;max-width: 0;overflow: hidden;text-align: left;background-color: #f0f8ff;}#sk-container-id-9 div.sk-toggleable__content pre {margin: 0.2em;color: black;border-radius: 0.25em;background-color: #f0f8ff;}#sk-container-id-9 input.sk-toggleable__control:checked~div.sk-toggleable__content {max-height: 200px;max-width: 100%;overflow: auto;}#sk-container-id-9 input.sk-toggleable__control:checked~label.sk-toggleable__label-arrow:before {content: \"▾\";}#sk-container-id-9 div.sk-estimator input.sk-toggleable__control:checked~label.sk-toggleable__label {background-color: #d4ebff;}#sk-container-id-9 div.sk-label input.sk-toggleable__control:checked~label.sk-toggleable__label {background-color: #d4ebff;}#sk-container-id-9 input.sk-hidden--visually {border: 0;clip: rect(1px 1px 1px 1px);clip: rect(1px, 1px, 1px, 1px);height: 1px;margin: -1px;overflow: hidden;padding: 0;position: absolute;width: 1px;}#sk-container-id-9 div.sk-estimator {font-family: monospace;background-color: #f0f8ff;border: 1px dotted black;border-radius: 0.25em;box-sizing: border-box;margin-bottom: 0.5em;}#sk-container-id-9 div.sk-estimator:hover {background-color: #d4ebff;}#sk-container-id-9 div.sk-parallel-item::after {content: \"\";width: 100%;border-bottom: 1px solid gray;flex-grow: 1;}#sk-container-id-9 div.sk-label:hover label.sk-toggleable__label {background-color: #d4ebff;}#sk-container-id-9 div.sk-serial::before {content: \"\";position: absolute;border-left: 1px solid gray;box-sizing: border-box;top: 0;bottom: 0;left: 50%;z-index: 0;}#sk-container-id-9 div.sk-serial {display: flex;flex-direction: column;align-items: center;background-color: white;padding-right: 0.2em;padding-left: 0.2em;position: relative;}#sk-container-id-9 div.sk-item {position: relative;z-index: 1;}#sk-container-id-9 div.sk-parallel {display: flex;align-items: stretch;justify-content: center;background-color: white;position: relative;}#sk-container-id-9 div.sk-item::before, #sk-container-id-9 div.sk-parallel-item::before {content: \"\";position: absolute;border-left: 1px solid gray;box-sizing: border-box;top: 0;bottom: 0;left: 50%;z-index: -1;}#sk-container-id-9 div.sk-parallel-item {display: flex;flex-direction: column;z-index: 1;position: relative;background-color: white;}#sk-container-id-9 div.sk-parallel-item:first-child::after {align-self: flex-end;width: 50%;}#sk-container-id-9 div.sk-parallel-item:last-child::after {align-self: flex-start;width: 50%;}#sk-container-id-9 div.sk-parallel-item:only-child::after {width: 0;}#sk-container-id-9 div.sk-dashed-wrapped {border: 1px dashed gray;margin: 0 0.4em 0.5em 0.4em;box-sizing: border-box;padding-bottom: 0.4em;background-color: white;}#sk-container-id-9 div.sk-label label {font-family: monospace;font-weight: bold;display: inline-block;line-height: 1.2em;}#sk-container-id-9 div.sk-label-container {text-align: center;}#sk-container-id-9 div.sk-container {/* jupyter's `normalize.less` sets `[hidden] { display: none; }` but bootstrap.min.css set `[hidden] { display: none !important; }` so we also need the `!important` here to be able to override the default hidden behavior on the sphinx rendered scikit-learn.org. See: https://github.com/scikit-learn/scikit-learn/issues/21755 */display: inline-block !important;position: relative;}#sk-container-id-9 div.sk-text-repr-fallback {display: none;}</style><div id=\"sk-container-id-9\" class=\"sk-top-container\"><div class=\"sk-text-repr-fallback\"><pre>KMeans(init=&#x27;random&#x27;, max_iter=100, n_clusters=17, n_init=10, random_state=41)</pre><b>In a Jupyter environment, please rerun this cell to show the HTML representation or trust the notebook. <br />On GitHub, the HTML representation is unable to render, please try loading this page with nbviewer.org.</b></div><div class=\"sk-container\" hidden><div class=\"sk-item\"><div class=\"sk-estimator sk-toggleable\"><input class=\"sk-toggleable__control sk-hidden--visually\" id=\"sk-estimator-id-9\" type=\"checkbox\" checked><label for=\"sk-estimator-id-9\" class=\"sk-toggleable__label sk-toggleable__label-arrow\">KMeans</label><div class=\"sk-toggleable__content\"><pre>KMeans(init=&#x27;random&#x27;, max_iter=100, n_clusters=17, n_init=10, random_state=41)</pre></div></div></div></div></div>"
            ]
          },
          "metadata": {},
          "execution_count": 111
        }
      ]
    },
    {
      "cell_type": "code",
      "source": [
        "metode_kmeans.inertia_"
      ],
      "metadata": {
        "id": "1F3vwWOjvSLb",
        "outputId": "7eee2d88-63c1-47e1-b156-6564686424c9",
        "colab": {
          "base_uri": "https://localhost:8080/"
        }
      },
      "execution_count": null,
      "outputs": [
        {
          "output_type": "execute_result",
          "data": {
            "text/plain": [
              "79.44365504943136"
            ]
          },
          "metadata": {},
          "execution_count": 112
        }
      ]
    },
    {
      "cell_type": "code",
      "source": [
        "metode_kmeans.cluster_centers_"
      ],
      "metadata": {
        "id": "d8g-rVSYvbkO",
        "outputId": "b51a09a2-d48a-4d14-fd8e-655591b143f9",
        "colab": {
          "base_uri": "https://localhost:8080/"
        }
      },
      "execution_count": null,
      "outputs": [
        {
          "output_type": "execute_result",
          "data": {
            "text/plain": [
              "array([[-0.00510632,  0.48113894],\n",
              "       [-0.01019824,  1.41559605],\n",
              "       [-1.15449738, -1.9518596 ],\n",
              "       [ 0.2732074 , -0.52535138],\n",
              "       [-1.03112177,  0.17163728],\n",
              "       [ 0.68115876,  0.07475415],\n",
              "       [ 1.27850398,  0.36109667],\n",
              "       [-0.60127109,  0.94874723],\n",
              "       [-1.36144251,  0.9404517 ],\n",
              "       [ 0.68040663,  0.91987254],\n",
              "       [ 0.10290826, -1.65053848],\n",
              "       [-0.58691203, -1.91138577],\n",
              "       [-1.40541357, -1.20899417],\n",
              "       [-0.72691053, -1.15372488],\n",
              "       [ 1.83547503,  0.03588487],\n",
              "       [ 1.57852088, -0.46395307],\n",
              "       [ 1.0125751 , -0.52727357]])"
            ]
          },
          "metadata": {},
          "execution_count": 113
        }
      ]
    },
    {
      "cell_type": "code",
      "source": [
        "metode_kmeans.n_iter_"
      ],
      "metadata": {
        "id": "TJgFdqFxvd3Y",
        "outputId": "d8f17e1c-8db3-4b46-aee7-141d9ff75d40",
        "colab": {
          "base_uri": "https://localhost:8080/"
        }
      },
      "execution_count": null,
      "outputs": [
        {
          "output_type": "execute_result",
          "data": {
            "text/plain": [
              "18"
            ]
          },
          "metadata": {},
          "execution_count": 114
        }
      ]
    },
    {
      "cell_type": "code",
      "source": [
        "metode_kmeans.labels_"
      ],
      "metadata": {
        "id": "RSWrA6H-vhlv",
        "outputId": "35e0c175-52e1-4465-9ed8-4bb2d2cb867f",
        "colab": {
          "base_uri": "https://localhost:8080/"
        }
      },
      "execution_count": null,
      "outputs": [
        {
          "output_type": "execute_result",
          "data": {
            "text/plain": [
              "array([14, 11,  8,  9,  4,  2,  5, 11, 15,  9,  5,  0, 14, 12, 16,  9,  7,\n",
              "        7,  5,  6,  2,  4,  0,  8, 15,  1,  5,  0,  6, 13, 11,  4, 15, 13,\n",
              "        7,  8,  9,  8,  1,  1,  8,  2,  5, 11,  4,  7,  3,  8,  0,  4,  2,\n",
              "       16,  8, 12,  6, 11,  9,  4, 10, 14, 14, 13,  1,  5, 13,  4,  4,  9,\n",
              "        1, 14,  1,  0, 15,  8, 13,  0, 13,  8,  9, 14,  5, 12, 15, 15,  0,\n",
              "        1,  3,  5, 13,  9, 15,  6, 11, 13,  8,  5,  2,  7, 13, 16,  4,  9,\n",
              "        6,  6, 11, 12,  5, 12,  7,  7, 16,  8, 13,  5,  1, 16,  6, 14,  1,\n",
              "       11,  0, 15, 12, 15,  6, 13,  3,  0,  7,  7, 16,  6, 11,  5,  9, 13,\n",
              "       16,  7, 12, 16,  7,  5,  6,  7,  0,  5, 16, 14,  0,  0,  2, 11,  7,\n",
              "        6, 12,  5, 13, 14, 11,  7, 13,  0,  9,  6,  8,  2,  0, 10,  5,  0,\n",
              "       11, 10,  5, 11,  0, 12, 16, 15, 10,  2, 16,  8,  1, 12,  8,  8, 12,\n",
              "       11,  2,  3,  5,  7,  0,  7, 15,  4,  4,  7,  8, 16,  4,  3,  8,  7,\n",
              "        8, 15,  7, 10,  8,  4,  9,  8,  7,  4,  4,  1, 11, 12,  4, 16,  1,\n",
              "        0, 11,  3,  8, 16,  7,  1,  7,  8,  0, 16,  5,  8, 16, 15,  0,  3,\n",
              "       16, 10,  9, 16, 13,  7, 11, 14,  1, 15, 12,  8,  8,  6,  3,  2, 15,\n",
              "        0,  1, 13, 15,  4,  2,  1,  5, 16,  0, 10,  1, 12,  0,  0,  0,  5,\n",
              "       16,  2, 16,  8, 13, 14, 15,  0,  8,  4, 11,  6, 11,  7,  7,  1, 15,\n",
              "        8,  8,  1,  7,  9,  6,  8,  5,  2,  5, 16, 16,  8, 15,  5,  5,  5,\n",
              "       15,  0, 11,  8,  5,  7,  8, 15,  0,  6,  7,  7, 15,  9, 12,  4, 11,\n",
              "       16,  3,  4,  0,  5,  7, 16,  5,  7,  9,  8,  5,  4,  4,  7, 11,  8,\n",
              "       16,  6,  8,  5,  1,  2, 16,  3,  9,  7,  6,  7,  5,  7,  7, 15,  0,\n",
              "        8, 16, 16,  7,  4,  6, 15,  9, 13,  6,  4,  9, 11,  9,  3, 16, 13,\n",
              "       16, 16,  8,  2,  2,  5,  9,  6,  4, 16,  1,  1, 15, 11,  0,  7,  6,\n",
              "       15, 12,  3,  8, 11,  1, 15,  4, 15,  6,  1,  1,  9, 11,  4,  5,  8,\n",
              "       11,  1, 15,  5, 15,  3,  2,  4,  1,  1,  8,  9,  5, 16,  8,  5, 14,\n",
              "        2, 10,  7,  9,  4,  5,  6,  2,  1,  9,  5, 16,  5,  7,  8,  1, 11,\n",
              "       10, 11,  6,  9,  5,  9,  6,  2, 15,  0,  5,  6,  0,  5,  0,  0,  7,\n",
              "        4, 13,  7,  6,  6,  8,  1,  9,  6,  3, 12,  5,  7,  7,  4, 13,  7,\n",
              "        0,  6,  0, 13,  1,  2, 13,  7,  7,  6,  8, 12,  8, 11,  7, 13,  5,\n",
              "        2, 10, 13,  5,  5,  3,  0,  7,  1,  7,  0,  3, 16,  8,  0, 11, 12,\n",
              "        4,  3,  0,  5,  8, 14,  6,  0,  9,  8,  6,  7, 16,  5, 14,  8,  8,\n",
              "       15,  8, 16, 15, 13, 15, 10,  3, 13,  6,  2,  2,  8,  2,  5,  0,  1,\n",
              "       12,  5, 13, 12,  5,  9,  5,  5,  8, 11,  1,  9,  7,  9,  2,  7,  5,\n",
              "       16, 11, 14,  1, 11,  7,  3, 14,  4,  3,  5, 14, 12,  4,  5,  7,  5,\n",
              "        8,  7,  1, 13, 14,  2,  7,  6, 16, 16,  5,  3,  0, 13,  6,  4, 16,\n",
              "        8,  5,  7, 14,  5,  0,  3,  9, 15,  5,  0, 14, 14,  7,  3,  9, 12,\n",
              "        5,  1, 15,  4,  9,  1,  2,  0, 12,  0,  6,  1,  7,  2,  3, 14, 14,\n",
              "        7, 11,  0,  7,  0, 16,  5, 13,  7,  8,  8, 16,  4,  1,  8, 14, 15,\n",
              "        0,  5, 15, 11,  0,  7, 16,  8,  3,  2,  0,  1,  2,  7,  7,  5,  4,\n",
              "       12,  2, 15,  7,  0,  7, 12,  0,  0,  8, 15,  8,  4,  6,  8,  4,  4,\n",
              "       11, 14,  6,  5,  6,  5, 14,  9,  9,  5, 13, 11,  6,  0, 11, 16,  8,\n",
              "        5,  7,  7,  9,  6,  7,  7,  0,  9,  8, 13,  6, 13], dtype=int32)"
            ]
          },
          "metadata": {},
          "execution_count": 115
        }
      ]
    },
    {
      "cell_type": "code",
      "source": [
        "import numpy as np\n",
        "import matplotlib.pyplot as plt\n",
        "import pandas as pd"
      ],
      "metadata": {
        "id": "paNcekdfvlNc"
      },
      "execution_count": null,
      "outputs": []
    },
    {
      "cell_type": "code",
      "source": [
        "color = np.array([\"Red\",\"Green\",\"Blue\",\"yellow\",\"brown\",\"black\",\"white\",\"pink\",\"violet\",\"orange\",\"khaki\",\"lavender\",\"bisque\",\"tan\",\"peru\",\"silver\",\"gray\"])\n",
        "plt.subplot(1,2,2)\n",
        "plt.scatter(skala_fitur[:,0], skala_fitur[:,1], s=50, alpha=1, cmap='viridis', c=color[metode_kmeans.labels_])"
      ],
      "metadata": {
        "id": "87i1_oWAvsDa",
        "outputId": "2bf4613e-5fd4-4564-c30f-cdaafe714919",
        "colab": {
          "base_uri": "https://localhost:8080/",
          "height": 502
        }
      },
      "execution_count": null,
      "outputs": [
        {
          "output_type": "stream",
          "name": "stderr",
          "text": [
            "<ipython-input-117-9d38a98780f0>:3: UserWarning: No data for colormapping provided via 'c'. Parameters 'cmap' will be ignored\n",
            "  plt.scatter(skala_fitur[:,0], skala_fitur[:,1], s=50, alpha=1, cmap='viridis', c=color[metode_kmeans.labels_])\n"
          ]
        },
        {
          "output_type": "execute_result",
          "data": {
            "text/plain": [
              "<matplotlib.collections.PathCollection at 0x7f82001d9e70>"
            ]
          },
          "metadata": {},
          "execution_count": 117
        },
        {
          "output_type": "display_data",
          "data": {
            "text/plain": [
              "<Figure size 640x480 with 1 Axes>"
            ],
            "image/png": "[encoded data removed]"
          },
          "metadata": {}
        }
      ]
    }
  ],
  "metadata": {
    "colab": {
      "toc_visible": true,
      "provenance": [],
      "include_colab_link": true
    },
    "kernelspec": {
      "display_name": "Python 3",
      "name": "python3"
    }
  },
  "nbformat": 4,
  "nbformat_minor": 0
}